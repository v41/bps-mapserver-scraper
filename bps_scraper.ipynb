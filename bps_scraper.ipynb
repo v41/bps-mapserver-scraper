{
  "nbformat": 4,
  "nbformat_minor": 0,
  "metadata": {
    "colab": {
      "name": "bps-scraper.ipynb",
      "provenance": [],
      "collapsed_sections": [],
      "authorship_tag": "ABX9TyNGfvMiejYk7yACTy1rrGtq",
      "include_colab_link": true
    },
    "kernelspec": {
      "name": "python3",
      "display_name": "Python 3"
    },
    "language_info": {
      "name": "python"
    }
  },
  "cells": [
    {
      "cell_type": "markdown",
      "metadata": {
        "id": "view-in-github",
        "colab_type": "text"
      },
      "source": [
        "<a href=\"https://colab.research.google.com/github/v41/bps-mapserver-scraper/blob/main/bps_scraper.ipynb\" target=\"_parent\"><img src=\"https://colab.research.google.com/assets/colab-badge.svg\" alt=\"Open In Colab\"/></a>"
      ]
    },
    {
      "cell_type": "code",
      "source": [
        "import requests,json"
      ],
      "metadata": {
        "id": "kEXbHLahM7h4"
      },
      "execution_count": 2,
      "outputs": []
    },
    {
      "cell_type": "code",
      "execution_count": 4,
      "metadata": {
        "id": "2FFToPM3M2Pk"
      },
      "outputs": [],
      "source": [
        "for i in range(0,37): #scrape using objectIds, in case of Province level, 37 objectIDs (34 provinces + 3 waterbodies)\n",
        "  url= f'https://geoportal.bps.go.id/server/rest/services/wilkerstat_pub_sp2020/Wilkerstat_2020/MapServer/2/query'\n",
        "  pm = dict(where=\"1=1\",f='geojson',outFields='*',returnGeometry=True,objectIDs={i})\n",
        "  res = requests.get(url,pm).json()\n",
        "  out = open(f'{i}.geojson', 'w')\n",
        "  json.dump(res, out)"
      ]
    }
  ]
}