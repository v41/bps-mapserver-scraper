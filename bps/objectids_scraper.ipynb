{
  "nbformat": 4,
  "nbformat_minor": 0,
  "metadata": {
    "colab": {
      "name": "objectids-scraper.ipynb",
      "provenance": [],
      "collapsed_sections": [],
      "authorship_tag": "ABX9TyPiIQeGBaBRjURcKgInQ/j9",
      "include_colab_link": true
    },
    "kernelspec": {
      "name": "python3",
      "display_name": "Python 3"
    },
    "language_info": {
      "name": "python"
    }
  },
  "cells": [
    {
      "cell_type": "markdown",
      "metadata": {
        "id": "view-in-github",
        "colab_type": "text"
      },
      "source": [
        "<a href=\"https://colab.research.google.com/github/v41/gov-map-scraper/blob/main/bps/objectids_scraper.ipynb\" target=\"_parent\"><img src=\"https://colab.research.google.com/assets/colab-badge.svg\" alt=\"Open In Colab\"/></a>"
      ]
    },
    {
      "cell_type": "code",
      "source": [
        "import requests,json,os"
      ],
      "metadata": {
        "id": "kEXbHLahM7h4"
      },
      "execution_count": null,
      "outputs": []
    },
    {
      "cell_type": "code",
      "execution_count": null,
      "metadata": {
        "id": "2FFToPM3M2Pk"
      },
      "outputs": [],
      "source": [
        "url= f'https://geoportal.bps.go.id/server/rest/services/wilkerstat_pub_sp2020/Wilkerstat_2020/MapServer/2/query'\n",
        "for i in range(0,37): #scrape using objectIds, in case of Province level, 37 objectIDs (34 provinces + 3 waterbodies)\n",
        "  pm = dict(where=\"1=1\",f='geojson',outFields='*',returnGeometry=True,objectIDs={i})\n",
        "  res = requests.get(url,pm).json()\n",
        "  os.makedirs('objectIDs', exist_ok=True)\n",
        "  out = open(f'objectIDs/{i}.geojson', 'w')\n",
        "  json.dump(res, out)"
      ]
    }
  ]
}