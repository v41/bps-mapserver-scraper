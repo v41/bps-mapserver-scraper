{
  "nbformat": 4,
  "nbformat_minor": 0,
  "metadata": {
    "colab": {
      "name": "kodeprov-scraper.ipynb",
      "provenance": [],
      "collapsed_sections": [],
      "authorship_tag": "ABX9TyOdxKxcEAWP+DSDlfr+s/bC",
      "include_colab_link": true
    },
    "kernelspec": {
      "name": "python3",
      "display_name": "Python 3"
    },
    "language_info": {
      "name": "python"
    }
  },
  "cells": [
    {
      "cell_type": "markdown",
      "metadata": {
        "id": "view-in-github",
        "colab_type": "text"
      },
      "source": [
        "<a href=\"https://colab.research.google.com/github/v41/gov-map-scraper/blob/main/bps/kodeprov_scraper.ipynb\" target=\"_parent\"><img src=\"https://colab.research.google.com/assets/colab-badge.svg\" alt=\"Open In Colab\"/></a>"
      ]
    },
    {
      "cell_type": "code",
      "source": [
        "import requests,json,os"
      ],
      "metadata": {
        "id": "kEXbHLahM7h4"
      },
      "execution_count": 12,
      "outputs": []
    },
    {
      "cell_type": "code",
      "source": [
        "#province index mapping based on BPS\n",
        "s = [11,12,13,14,15,16,17,18,19] #sumatra\n",
        "r = [21] #riau islands\n",
        "j = [31,32,33,34,35,36] #java\n",
        "n = [51,52,53] #southeast nusa \n",
        "b = [61,62,63,64,65] #borneo\n",
        "c = [71,72,73,74,75,76] #celebes\n",
        "m = [81,82] #moluccas\n",
        "p = [91,94] #papua\n",
        "\n",
        "i = s + r + j + n + b + c + m + p"
      ],
      "metadata": {
        "id": "vrTGwuPEdOEN"
      },
      "execution_count": 16,
      "outputs": []
    },
    {
      "cell_type": "code",
      "execution_count": 22,
      "metadata": {
        "id": "2FFToPM3M2Pk"
      },
      "outputs": [],
      "source": [
        "url = f'https://geoportal.bps.go.id/server/rest/services/wilkerstat_pub_sp2020/Wilkerstat_2020/MapServer/1/query'\n",
        "for province in i: #scrape using 34 provinces kdprov\n",
        "  pm = dict(where=f\"kdprov='{province}'\",f='geojson',outFields='*',returnGeometry=True)\n",
        "  res = requests.get(url,pm).json()\n",
        "  os.makedirs('provinces', exist_ok=True)\n",
        "  out = open(f'provinces/{province}.geojson', 'w')\n",
        "  json.dump(res, out)"
      ]
    }
  ]
}